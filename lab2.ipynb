{
 "cells": [
  {
   "cell_type": "code",
   "execution_count": 32,
   "metadata": {},
   "outputs": [],
   "source": [
    "import functools\n",
    "from dataclasses import dataclass\n",
    "import random\n",
    "import numpy as np\n",
    "from tqdm.auto import tqdm\n",
    "from icecream import ic\n",
    "import pandas as pd\n",
    "from itertools import permutations"
   ]
  },
  {
   "cell_type": "code",
   "execution_count": null,
   "metadata": {},
   "outputs": [],
   "source": [
    "COSTS =[]"
   ]
  },
  {
   "cell_type": "code",
   "execution_count": 33,
   "metadata": {},
   "outputs": [],
   "source": [
    "data = pd.read_csv('cities/vanuatu.csv', header=None , names=['City', 'x', 'y'])\n",
    "# cities #to print the data of all the cities\n",
    "cities = data[['x', 'y']].values\n",
    "city_name = data['City'].values"
   ]
  },
  {
   "cell_type": "code",
   "execution_count": 26,
   "metadata": {},
   "outputs": [],
   "source": [
    "# for c in cities.iterrows():\n",
    "#     print()"
   ]
  },
  {
   "cell_type": "code",
   "execution_count": 27,
   "metadata": {},
   "outputs": [],
   "source": [
    "# # prof way of calculating the distance matrix\n",
    "# dist_matrix = np.zeros((len(cities), len(cities)))\n",
    "# for a, b in product(cities.iterrows(), repeat =2):\n",
    "#     dist_matrix[a[0], b[0]] = ((a[1]['x'])**2 + (a[1]['y'])**2)**.5\n",
    "#     city_names = np.array([c['name'] for _, c in cities.iterrows()])\n",
    "# city_names "
   ]
  },
  {
   "cell_type": "code",
   "execution_count": null,
   "metadata": {},
   "outputs": [],
   "source": [
    "# prof set of solution\n",
    "# ic(dist_matrix[0])\n",
    "# city =0\n",
    "# ic(city_name[city])\n",
    "# closest_city = np.argmin(dist_matrix[0])\n",
    "# ic(closest_city, city_names[closest_city])"
   ]
  },
  {
   "cell_type": "code",
   "execution_count": 36,
   "metadata": {},
   "outputs": [],
   "source": [
    "# the distance can be an euclidean distance\n",
    "def distance(city1, city2):\n",
    "    return np.sqrt((city1[0] - city2[0]) ** 2 + (city1[1] - city2[1]) ** 2)\n",
    "#to calculate total tour distance\n",
    "def tot_distance(tour, cities):\n",
    "    dist = 0\n",
    "    for i in range(len(tour)):\n",
    "        dist += distance(cities[tour[i]], cities[tour[(i+1)%len(tour)]])\n",
    "    return dist\n"
   ]
  },
  {
   "cell_type": "code",
   "execution_count": 37,
   "metadata": {},
   "outputs": [],
   "source": [
    "#Brute forse algorithm\n",
    "#tries every possible permutaion of the cities to find the shortest path. \n",
    "# Slow but accurate algoritm\n",
    "def tsp_bruteforce(cities, city_names):\n",
    "    n = len(cities)\n",
    "    min_cost = float('inf')\n",
    "    best_tour = None\n",
    "    \n",
    "    # Generate all permutations of city indices\n",
    "    for perm in permutations(range(n)):\n",
    "        # Calculate the total cost of the current permutation (tour)\n",
    "        cost = 0\n",
    "        for i in range(n - 1):\n",
    "            cost += distance(cities[perm[i]], cities[perm[i + 1]])\n",
    "        cost += distance(cities[perm[-1]], cities[perm[0]])  # Return to the origin\n",
    "        \n",
    "        # Check if this tour is better\n",
    "        if cost < min_cost:\n",
    "            min_cost = cost\n",
    "            best_tour = perm\n",
    "    \n",
    "    # Convert best_tour indices to city names\n",
    "    best_tour_names = [city_names[i] for i in best_tour]\n",
    "    \n",
    "    return best_tour, best_tour_names, min_cost\n"
   ]
  },
  {
   "cell_type": "code",
   "execution_count": 38,
   "metadata": {},
   "outputs": [
    {
     "name": "stdout",
     "output_type": "stream",
     "text": [
      "Brute force TSP cost: 12.22271518168697, Best tour: (4, 1, 7, 0, 2, 6, 5, 3)\n"
     ]
    }
   ],
   "source": [
    "best_tour_indices, best_tour_names, min_cost = tsp_bruteforce(cities, city_names)\n",
    "\n",
    "print(f\"Brute force TSP cost: {min_cost}\")\n",
    "print(f\"Best tour (indices): {best_tour_indices}\")\n",
    "print(f\"Best tour (names): {best_tour_names}\")"
   ]
  },
  {
   "cell_type": "code",
   "execution_count": 30,
   "metadata": {},
   "outputs": [],
   "source": [
    "\n",
    "#try to find using some greddy algorithm\n",
    "def create_population(pop_size, num_cities):\n",
    "    return [random.sample(range(num_cities), num_cities) for _ in range(pop_size)]\n",
    "\n",
    "# #fitness function\n",
    "def fitness(tour, cities):\n",
    "    return 1 / tot_distance(tour, cities)\n",
    "\n",
    "# Crossover (Order Crossover)\n",
    "def crossover(parent1, parent2):\n",
    "    size = len(parent1)\n",
    "    start, end = sorted(random.sample(range(size), 2))\n",
    "    \n",
    "    child = [-1] * size\n",
    "    child[start:end] = parent1[start:end]\n",
    "    \n",
    "    for i in range(size):\n",
    "        if parent2[i] not in child:\n",
    "            for j in range(size):\n",
    "                if child[j] == -1:\n",
    "                    child[j] = parent2[i]\n",
    "                    break\n",
    "    return child\n",
    "\n",
    "\n",
    "# Mutation (Swap Mutation)\n",
    "def mutate(tour, mutation_rate=0.01):\n",
    "    if random.random() < mutation_rate:\n",
    "        i, j = random.sample(range(len(tour)), 2)\n",
    "        tour[i], tour[j] = tour[j], tour[i]\n",
    "    return tour\n",
    "\n",
    "# GA Loop\n",
    "def genetic_algorithm(cities, population_size=100, generations=500, mutation_rate=0.01):\n",
    "    num_cities = len(cities)\n",
    "    population = create_population(population_size, num_cities)\n",
    "    \n",
    "    for generation in range(generations):\n",
    "        fitnesses = [fitness(individual, cities) for individual in population]\n",
    "        \n",
    "        # Selection and breeding\n",
    "        new_population = []\n",
    "        for _ in range(population_size // 2):\n",
    "            parent1, parent2 = selection(population, fitnesses)\n",
    "            child1 = mutate(crossover(parent1, parent2), mutation_rate)\n",
    "            child2 = mutate(crossover(parent2, parent1), mutation_rate)\n",
    "            new_population.extend([child1, child2])\n",
    "        \n",
    "        population = new_population\n",
    "        \n",
    "        # Track the best solution\n",
    "        best_fitness = max(fitnesses)\n",
    "        best_tour = population[fitnesses.index(best_fitness)]\n",
    "        best_cost = tot_distance(best_tour, cities)\n",
    "        \n",
    "        print(f\"Generation {generation + 1}: Best cost = {best_cost}\")\n",
    "    \n",
    "    return best_tour, best_cost\n",
    "\n",
    "\n",
    "\n",
    "\n"
   ]
  },
  {
   "cell_type": "code",
   "execution_count": null,
   "metadata": {},
   "outputs": [],
   "source": [
    "best_tour_ga, best_cost_ga = genetic_algorithm(cities)\n",
    "print(f\"Genetic Algorithm TSP cost: {best_cost_ga}, Best tour: {best_tour_ga}\")"
   ]
  },
  {
   "cell_type": "code",
   "execution_count": null,
   "metadata": {},
   "outputs": [],
   "source": [
    "# TSP (Travelling salesman problem)\n"
   ]
  }
 ],
 "metadata": {
  "kernelspec": {
   "display_name": "CI2024_lab1",
   "language": "python",
   "name": "python3"
  },
  "language_info": {
   "codemirror_mode": {
    "name": "ipython",
    "version": 3
   },
   "file_extension": ".py",
   "mimetype": "text/x-python",
   "name": "python",
   "nbconvert_exporter": "python",
   "pygments_lexer": "ipython3",
   "version": "3.13.0"
  }
 },
 "nbformat": 4,
 "nbformat_minor": 2
}
