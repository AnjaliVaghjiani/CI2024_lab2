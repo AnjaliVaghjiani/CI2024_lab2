{
 "cells": [
  {
   "cell_type": "code",
   "execution_count": 39,
   "metadata": {},
   "outputs": [],
   "source": [
    "import functools\n",
    "from dataclasses import dataclass\n",
    "import random\n",
    "import numpy as np\n",
    "from tqdm.auto import tqdm\n",
    "from icecream import ic\n",
    "import pandas as pd\n",
    "from itertools import permutations\n",
    "import pandas as pd\n",
    "from geopy.distance import geodesic"
   ]
  },
  {
   "cell_type": "code",
   "execution_count": 40,
   "metadata": {},
   "outputs": [],
   "source": [
    "data = pd.read_csv('cities/italy.csv', header=None , names=['City', 'x', 'y'])\n",
    "# cities #to print the data of all the cities\n",
    "cities = data[['x', 'y']].values\n",
    "city_name = data['City'].values"
   ]
  },
  {
   "cell_type": "code",
   "execution_count": 41,
   "metadata": {},
   "outputs": [],
   "source": [
    "distance = {}\n",
    "\n",
    "for i, row1 in data.iterrows():\n",
    "    country1 = row1['City']\n",
    "    coord1 = (row1['x'], row1['y'])\n",
    "\n",
    "    for j, row2 in data.iterrows():\n",
    "        if i>=j:\n",
    "            continue\n",
    "\n",
    "        country2 = row2['City']\n",
    "        coord2 = (row2['x'], row2['y'])\n",
    "\n",
    "        distance_km = geodesic(coord1, coord2).kilometers\n",
    "\n",
    "        distance[(country1, country2)] = distance_km\n",
    "\n"
   ]
  },
  {
   "cell_type": "code",
   "execution_count": 42,
   "metadata": {},
   "outputs": [
    {
     "name": "stdout",
     "output_type": "stream",
     "text": [
      "           Country Pair  Distance (km)\n",
      "0      (Ancona, Andria)     349.304011\n",
      "1        (Ancona, Bari)     391.041868\n",
      "2     (Ancona, Bergamo)     383.020439\n",
      "3     (Ancona, Bologna)     199.899630\n",
      "4     (Ancona, Bolzano)     364.044781\n",
      "...                 ...            ...\n",
      "1030    (Turin, Verona)     262.842930\n",
      "1031   (Turin, Vicenza)     307.118791\n",
      "1032   (Venice, Verona)     104.856922\n",
      "1033  (Venice, Vicenza)      63.179244\n",
      "1034  (Verona, Vicenza)      44.695173\n",
      "\n",
      "[1035 rows x 2 columns]\n"
     ]
    }
   ],
   "source": [
    "distance_df = pd.DataFrame(list(distance.items()), columns=['Country Pair', 'Distance (km)'])\n",
    "print(distance_df)\n",
    "distance_df.to_csv('output.csv', index = False) #used to store the data when the output is very large"
   ]
  },
  {
   "cell_type": "code",
   "execution_count": 43,
   "metadata": {},
   "outputs": [],
   "source": [
    "#for global optimal distance\n",
    "#to find the global optimal solution have to find the shortest path that visits each city exactly once and returns to the starting point\n",
    "#trying with bruth force approch but its not optimal for huge size of the dataset\n",
    "\n",
    "country_coords = {row['City']: (row['x'], row['y']) for _, row in data.iterrows()}\n",
    "\n",
    "#function used to calculate the total distance of a given tour\n",
    "def calculate_total_distance(tour, country_coords, countries):\n",
    "    total_distance = 0\n",
    "    n = len(tour)\n",
    "    for i in range(n - 1):\n",
    "        city1 = countries[tour[i]]\n",
    "        city2 = countries[tour[i + 1]]\n",
    "        total_distance += geodesic(country_coords[city1], country_coords[city2]).kilometers\n",
    "    total_distance += geodesic(country_coords[countries[tour[-1]]], country_coords[countries[tour[0]]]).kilometers\n",
    "    return total_distance"
   ]
  },
  {
   "cell_type": "code",
   "execution_count": 28,
   "metadata": {},
   "outputs": [],
   "source": [
    "#bruth force code\n",
    "def tsp_bruteforce(country_coords):\n",
    "    countries = list(country_coords.keys())\n",
    "    min_distance = float('inf')\n",
    "    optimal_tour = None\n",
    "\n",
    "    # Iterate through all possible permutations (tours) of the countries\n",
    "    for perm in permutations(countries):\n",
    "        current_distance = calculate_total_distance(perm, country_coords)\n",
    "        \n",
    "        # Update if a shorter tour is found\n",
    "        if current_distance < min_distance:\n",
    "            min_distance = current_distance\n",
    "            optimal_tour = perm\n",
    "    \n",
    "    return optimal_tour, min_distance"
   ]
  },
  {
   "cell_type": "code",
   "execution_count": 22,
   "metadata": {},
   "outputs": [
    {
     "ename": "KeyboardInterrupt",
     "evalue": "",
     "output_type": "error",
     "traceback": [
      "\u001b[1;31m---------------------------------------------------------------------------\u001b[0m",
      "\u001b[1;31mKeyboardInterrupt\u001b[0m                         Traceback (most recent call last)",
      "Cell \u001b[1;32mIn[22], line 1\u001b[0m\n\u001b[1;32m----> 1\u001b[0m optimal_tour, optimal_distance \u001b[38;5;241m=\u001b[39m \u001b[43mtsp_bruteforce\u001b[49m\u001b[43m(\u001b[49m\u001b[43mcountry_coords\u001b[49m\u001b[43m)\u001b[49m\n\u001b[0;32m      3\u001b[0m \u001b[38;5;28mprint\u001b[39m(\u001b[38;5;124m\"\u001b[39m\u001b[38;5;124mOptimal tour (global minimum solution):\u001b[39m\u001b[38;5;124m\"\u001b[39m, optimal_tour)\n\u001b[0;32m      4\u001b[0m \u001b[38;5;28mprint\u001b[39m(\u001b[38;5;124m\"\u001b[39m\u001b[38;5;124mTotal distance of optimal tour (km):\u001b[39m\u001b[38;5;124m\"\u001b[39m, optimal_distance)\n",
      "Cell \u001b[1;32mIn[21], line 9\u001b[0m, in \u001b[0;36mtsp_bruteforce\u001b[1;34m(country_coords)\u001b[0m\n\u001b[0;32m      7\u001b[0m \u001b[38;5;66;03m# Iterate through all possible permutations (tours) of the countries\u001b[39;00m\n\u001b[0;32m      8\u001b[0m \u001b[38;5;28;01mfor\u001b[39;00m perm \u001b[38;5;129;01min\u001b[39;00m permutations(countries):\n\u001b[1;32m----> 9\u001b[0m     current_distance \u001b[38;5;241m=\u001b[39m \u001b[43mcalculate_total_distance\u001b[49m\u001b[43m(\u001b[49m\u001b[43mperm\u001b[49m\u001b[43m,\u001b[49m\u001b[43m \u001b[49m\u001b[43mcountry_coords\u001b[49m\u001b[43m)\u001b[49m\n\u001b[0;32m     11\u001b[0m     \u001b[38;5;66;03m# Update if a shorter tour is found\u001b[39;00m\n\u001b[0;32m     12\u001b[0m     \u001b[38;5;28;01mif\u001b[39;00m current_distance \u001b[38;5;241m<\u001b[39m min_distance:\n",
      "Cell \u001b[1;32mIn[20], line 12\u001b[0m, in \u001b[0;36mcalculate_total_distance\u001b[1;34m(tour, country_coords)\u001b[0m\n\u001b[0;32m     10\u001b[0m n \u001b[38;5;241m=\u001b[39m \u001b[38;5;28mlen\u001b[39m(tour)\n\u001b[0;32m     11\u001b[0m \u001b[38;5;28;01mfor\u001b[39;00m i \u001b[38;5;129;01min\u001b[39;00m \u001b[38;5;28mrange\u001b[39m(n \u001b[38;5;241m-\u001b[39m \u001b[38;5;241m1\u001b[39m):\n\u001b[1;32m---> 12\u001b[0m     total_distance \u001b[38;5;241m+\u001b[39m\u001b[38;5;241m=\u001b[39m \u001b[43mgeodesic\u001b[49m\u001b[43m(\u001b[49m\u001b[43mcountry_coords\u001b[49m\u001b[43m[\u001b[49m\u001b[43mtour\u001b[49m\u001b[43m[\u001b[49m\u001b[43mi\u001b[49m\u001b[43m]\u001b[49m\u001b[43m]\u001b[49m\u001b[43m,\u001b[49m\u001b[43m \u001b[49m\u001b[43mcountry_coords\u001b[49m\u001b[43m[\u001b[49m\u001b[43mtour\u001b[49m\u001b[43m[\u001b[49m\u001b[43mi\u001b[49m\u001b[43m \u001b[49m\u001b[38;5;241;43m+\u001b[39;49m\u001b[43m \u001b[49m\u001b[38;5;241;43m1\u001b[39;49m\u001b[43m]\u001b[49m\u001b[43m]\u001b[49m\u001b[43m)\u001b[49m\u001b[38;5;241m.\u001b[39mkilometers\n\u001b[0;32m     13\u001b[0m total_distance \u001b[38;5;241m+\u001b[39m\u001b[38;5;241m=\u001b[39m geodesic(country_coords[tour[\u001b[38;5;241m-\u001b[39m\u001b[38;5;241m1\u001b[39m]], country_coords[tour[\u001b[38;5;241m0\u001b[39m]])\u001b[38;5;241m.\u001b[39mkilometers  \u001b[38;5;66;03m# Return to start\u001b[39;00m\n\u001b[0;32m     14\u001b[0m \u001b[38;5;28;01mreturn\u001b[39;00m total_distance\n",
      "File \u001b[1;32mc:\\Users\\anjal\\Desktop\\computational Interlligence\\CI2024_lab1\\CI2024_lab1\\CI2024_lab1\\Lib\\site-packages\\geopy\\distance.py:540\u001b[0m, in \u001b[0;36mgeodesic.__init__\u001b[1;34m(self, *args, **kwargs)\u001b[0m\n\u001b[0;32m    538\u001b[0m \u001b[38;5;28mself\u001b[39m\u001b[38;5;241m.\u001b[39mset_ellipsoid(kwargs\u001b[38;5;241m.\u001b[39mpop(\u001b[38;5;124m'\u001b[39m\u001b[38;5;124mellipsoid\u001b[39m\u001b[38;5;124m'\u001b[39m, \u001b[38;5;124m'\u001b[39m\u001b[38;5;124mWGS-84\u001b[39m\u001b[38;5;124m'\u001b[39m))\n\u001b[0;32m    539\u001b[0m major, minor, f \u001b[38;5;241m=\u001b[39m \u001b[38;5;28mself\u001b[39m\u001b[38;5;241m.\u001b[39mELLIPSOID\n\u001b[1;32m--> 540\u001b[0m \u001b[38;5;28;43msuper\u001b[39;49m\u001b[43m(\u001b[49m\u001b[43m)\u001b[49m\u001b[38;5;241;43m.\u001b[39;49m\u001b[38;5;21;43m__init__\u001b[39;49m\u001b[43m(\u001b[49m\u001b[38;5;241;43m*\u001b[39;49m\u001b[43margs\u001b[49m\u001b[43m,\u001b[49m\u001b[43m \u001b[49m\u001b[38;5;241;43m*\u001b[39;49m\u001b[38;5;241;43m*\u001b[39;49m\u001b[43mkwargs\u001b[49m\u001b[43m)\u001b[49m\n",
      "File \u001b[1;32mc:\\Users\\anjal\\Desktop\\computational Interlligence\\CI2024_lab1\\CI2024_lab1\\CI2024_lab1\\Lib\\site-packages\\geopy\\distance.py:276\u001b[0m, in \u001b[0;36mDistance.__init__\u001b[1;34m(self, *args, **kwargs)\u001b[0m\n\u001b[0;32m    274\u001b[0m \u001b[38;5;28;01melif\u001b[39;00m \u001b[38;5;28mlen\u001b[39m(args) \u001b[38;5;241m>\u001b[39m \u001b[38;5;241m1\u001b[39m:\n\u001b[0;32m    275\u001b[0m     \u001b[38;5;28;01mfor\u001b[39;00m a, b \u001b[38;5;129;01min\u001b[39;00m util\u001b[38;5;241m.\u001b[39mpairwise(args):\n\u001b[1;32m--> 276\u001b[0m         kilometers \u001b[38;5;241m+\u001b[39m\u001b[38;5;241m=\u001b[39m \u001b[38;5;28;43mself\u001b[39;49m\u001b[38;5;241;43m.\u001b[39;49m\u001b[43mmeasure\u001b[49m\u001b[43m(\u001b[49m\u001b[43ma\u001b[49m\u001b[43m,\u001b[49m\u001b[43m \u001b[49m\u001b[43mb\u001b[49m\u001b[43m)\u001b[49m\n\u001b[0;32m    278\u001b[0m kilometers \u001b[38;5;241m+\u001b[39m\u001b[38;5;241m=\u001b[39m units\u001b[38;5;241m.\u001b[39mkilometers(\u001b[38;5;241m*\u001b[39m\u001b[38;5;241m*\u001b[39mkwargs)\n\u001b[0;32m    279\u001b[0m \u001b[38;5;28mself\u001b[39m\u001b[38;5;241m.\u001b[39m__kilometers \u001b[38;5;241m=\u001b[39m kilometers\n",
      "File \u001b[1;32mc:\\Users\\anjal\\Desktop\\computational Interlligence\\CI2024_lab1\\CI2024_lab1\\CI2024_lab1\\Lib\\site-packages\\geopy\\distance.py:566\u001b[0m, in \u001b[0;36mgeodesic.measure\u001b[1;34m(self, a, b)\u001b[0m\n\u001b[0;32m    561\u001b[0m \u001b[38;5;28;01mif\u001b[39;00m \u001b[38;5;129;01mnot\u001b[39;00m (\u001b[38;5;28misinstance\u001b[39m(\u001b[38;5;28mself\u001b[39m\u001b[38;5;241m.\u001b[39mgeod, Geodesic) \u001b[38;5;129;01mand\u001b[39;00m\n\u001b[0;32m    562\u001b[0m         \u001b[38;5;28mself\u001b[39m\u001b[38;5;241m.\u001b[39mgeod\u001b[38;5;241m.\u001b[39ma \u001b[38;5;241m==\u001b[39m \u001b[38;5;28mself\u001b[39m\u001b[38;5;241m.\u001b[39mELLIPSOID[\u001b[38;5;241m0\u001b[39m] \u001b[38;5;129;01mand\u001b[39;00m\n\u001b[0;32m    563\u001b[0m         \u001b[38;5;28mself\u001b[39m\u001b[38;5;241m.\u001b[39mgeod\u001b[38;5;241m.\u001b[39mf \u001b[38;5;241m==\u001b[39m \u001b[38;5;28mself\u001b[39m\u001b[38;5;241m.\u001b[39mELLIPSOID[\u001b[38;5;241m2\u001b[39m]):\n\u001b[0;32m    564\u001b[0m     \u001b[38;5;28mself\u001b[39m\u001b[38;5;241m.\u001b[39mgeod \u001b[38;5;241m=\u001b[39m Geodesic(\u001b[38;5;28mself\u001b[39m\u001b[38;5;241m.\u001b[39mELLIPSOID[\u001b[38;5;241m0\u001b[39m], \u001b[38;5;28mself\u001b[39m\u001b[38;5;241m.\u001b[39mELLIPSOID[\u001b[38;5;241m2\u001b[39m])\n\u001b[1;32m--> 566\u001b[0m s12 \u001b[38;5;241m=\u001b[39m \u001b[38;5;28;43mself\u001b[39;49m\u001b[38;5;241;43m.\u001b[39;49m\u001b[43mgeod\u001b[49m\u001b[38;5;241;43m.\u001b[39;49m\u001b[43mInverse\u001b[49m\u001b[43m(\u001b[49m\u001b[43mlat1\u001b[49m\u001b[43m,\u001b[49m\u001b[43m \u001b[49m\u001b[43mlon1\u001b[49m\u001b[43m,\u001b[49m\u001b[43m \u001b[49m\u001b[43mlat2\u001b[49m\u001b[43m,\u001b[49m\u001b[43m \u001b[49m\u001b[43mlon2\u001b[49m\u001b[43m,\u001b[49m\n\u001b[0;32m    567\u001b[0m \u001b[43m                        \u001b[49m\u001b[43mGeodesic\u001b[49m\u001b[38;5;241;43m.\u001b[39;49m\u001b[43mDISTANCE\u001b[49m\u001b[43m)\u001b[49m[\u001b[38;5;124m'\u001b[39m\u001b[38;5;124ms12\u001b[39m\u001b[38;5;124m'\u001b[39m]\n\u001b[0;32m    569\u001b[0m \u001b[38;5;28;01mreturn\u001b[39;00m s12\n",
      "File \u001b[1;32mc:\\Users\\anjal\\Desktop\\computational Interlligence\\CI2024_lab1\\CI2024_lab1\\CI2024_lab1\\Lib\\site-packages\\geographiclib\\geodesic.py:1030\u001b[0m, in \u001b[0;36mGeodesic.Inverse\u001b[1;34m(self, lat1, lon1, lat2, lon2, outmask)\u001b[0m\n\u001b[0;32m   1012\u001b[0m \u001b[38;5;28;01mdef\u001b[39;00m \u001b[38;5;21mInverse\u001b[39m(\u001b[38;5;28mself\u001b[39m, lat1, lon1, lat2, lon2,\n\u001b[0;32m   1013\u001b[0m             outmask \u001b[38;5;241m=\u001b[39m GeodesicCapability\u001b[38;5;241m.\u001b[39mSTANDARD):\n\u001b[0;32m   1014\u001b[0m \u001b[38;5;250m  \u001b[39m\u001b[38;5;124;03m\"\"\"Solve the inverse geodesic problem\u001b[39;00m\n\u001b[0;32m   1015\u001b[0m \n\u001b[0;32m   1016\u001b[0m \u001b[38;5;124;03m  :param lat1: latitude of the first point in degrees\u001b[39;00m\n\u001b[1;32m   (...)\u001b[0m\n\u001b[0;32m   1027\u001b[0m \n\u001b[0;32m   1028\u001b[0m \u001b[38;5;124;03m  \"\"\"\u001b[39;00m\n\u001b[1;32m-> 1030\u001b[0m   a12, s12, salp1,calp1, salp2,calp2, m12, M12, M21, S12 \u001b[38;5;241m=\u001b[39m \u001b[38;5;28;43mself\u001b[39;49m\u001b[38;5;241;43m.\u001b[39;49m\u001b[43m_GenInverse\u001b[49m\u001b[43m(\u001b[49m\n\u001b[0;32m   1031\u001b[0m \u001b[43m    \u001b[49m\u001b[43mlat1\u001b[49m\u001b[43m,\u001b[49m\u001b[43m \u001b[49m\u001b[43mlon1\u001b[49m\u001b[43m,\u001b[49m\u001b[43m \u001b[49m\u001b[43mlat2\u001b[49m\u001b[43m,\u001b[49m\u001b[43m \u001b[49m\u001b[43mlon2\u001b[49m\u001b[43m,\u001b[49m\u001b[43m \u001b[49m\u001b[43moutmask\u001b[49m\u001b[43m)\u001b[49m\n\u001b[0;32m   1032\u001b[0m   outmask \u001b[38;5;241m&\u001b[39m\u001b[38;5;241m=\u001b[39m Geodesic\u001b[38;5;241m.\u001b[39mOUT_MASK\n\u001b[0;32m   1033\u001b[0m   \u001b[38;5;28;01mif\u001b[39;00m outmask \u001b[38;5;241m&\u001b[39m Geodesic\u001b[38;5;241m.\u001b[39mLONG_UNROLL:\n",
      "File \u001b[1;32mc:\\Users\\anjal\\Desktop\\computational Interlligence\\CI2024_lab1\\CI2024_lab1\\CI2024_lab1\\Lib\\site-packages\\geographiclib\\geodesic.py:876\u001b[0m, in \u001b[0;36mGeodesic._GenInverse\u001b[1;34m(self, lat1, lon1, lat2, lon2, outmask)\u001b[0m\n\u001b[0;32m    870\u001b[0m salp1b \u001b[38;5;241m=\u001b[39m Geodesic\u001b[38;5;241m.\u001b[39mtiny_; calp1b \u001b[38;5;241m=\u001b[39m \u001b[38;5;241m-\u001b[39m\u001b[38;5;241m1.0\u001b[39m\n\u001b[0;32m    872\u001b[0m \u001b[38;5;28;01mwhile\u001b[39;00m numit \u001b[38;5;241m<\u001b[39m Geodesic\u001b[38;5;241m.\u001b[39mmaxit2_:\n\u001b[0;32m    873\u001b[0m   \u001b[38;5;66;03m# the WGS84 test set: mean = 1.47, sd = 1.25, max = 16\u001b[39;00m\n\u001b[0;32m    874\u001b[0m   \u001b[38;5;66;03m# WGS84 and random input: mean = 2.85, sd = 0.60\u001b[39;00m\n\u001b[0;32m    875\u001b[0m   (v, salp2, calp2, sig12, ssig1, csig1, ssig2, csig2,\n\u001b[1;32m--> 876\u001b[0m    eps, domg12, dv) \u001b[38;5;241m=\u001b[39m \u001b[38;5;28;43mself\u001b[39;49m\u001b[38;5;241;43m.\u001b[39;49m\u001b[43m_Lambda12\u001b[49m\u001b[43m(\u001b[49m\n\u001b[0;32m    877\u001b[0m \u001b[43m     \u001b[49m\u001b[43msbet1\u001b[49m\u001b[43m,\u001b[49m\u001b[43m \u001b[49m\u001b[43mcbet1\u001b[49m\u001b[43m,\u001b[49m\u001b[43m \u001b[49m\u001b[43mdn1\u001b[49m\u001b[43m,\u001b[49m\u001b[43m \u001b[49m\u001b[43msbet2\u001b[49m\u001b[43m,\u001b[49m\u001b[43m \u001b[49m\u001b[43mcbet2\u001b[49m\u001b[43m,\u001b[49m\u001b[43m \u001b[49m\u001b[43mdn2\u001b[49m\u001b[43m,\u001b[49m\n\u001b[0;32m    878\u001b[0m \u001b[43m     \u001b[49m\u001b[43msalp1\u001b[49m\u001b[43m,\u001b[49m\u001b[43m \u001b[49m\u001b[43mcalp1\u001b[49m\u001b[43m,\u001b[49m\u001b[43m \u001b[49m\u001b[43mslam12\u001b[49m\u001b[43m,\u001b[49m\u001b[43m \u001b[49m\u001b[43mclam12\u001b[49m\u001b[43m,\u001b[49m\u001b[43m \u001b[49m\u001b[43mnumit\u001b[49m\u001b[43m \u001b[49m\u001b[38;5;241;43m<\u001b[39;49m\u001b[43m \u001b[49m\u001b[43mGeodesic\u001b[49m\u001b[38;5;241;43m.\u001b[39;49m\u001b[43mmaxit1_\u001b[49m\u001b[43m,\u001b[49m\n\u001b[0;32m    879\u001b[0m \u001b[43m     \u001b[49m\u001b[43mC1a\u001b[49m\u001b[43m,\u001b[49m\u001b[43m \u001b[49m\u001b[43mC2a\u001b[49m\u001b[43m,\u001b[49m\u001b[43m \u001b[49m\u001b[43mC3a\u001b[49m\u001b[43m)\u001b[49m\n\u001b[0;32m    880\u001b[0m   \u001b[38;5;66;03m# Reversed test to allow escape with NaNs\u001b[39;00m\n\u001b[0;32m    881\u001b[0m   \u001b[38;5;28;01mif\u001b[39;00m tripb \u001b[38;5;129;01mor\u001b[39;00m \u001b[38;5;129;01mnot\u001b[39;00m (\u001b[38;5;28mabs\u001b[39m(v) \u001b[38;5;241m>\u001b[39m\u001b[38;5;241m=\u001b[39m (\u001b[38;5;241m8\u001b[39m \u001b[38;5;28;01mif\u001b[39;00m tripn \u001b[38;5;28;01melse\u001b[39;00m \u001b[38;5;241m1\u001b[39m) \u001b[38;5;241m*\u001b[39m Geodesic\u001b[38;5;241m.\u001b[39mtol0_):\n",
      "File \u001b[1;32mc:\\Users\\anjal\\Desktop\\computational Interlligence\\CI2024_lab1\\CI2024_lab1\\CI2024_lab1\\Lib\\site-packages\\geographiclib\\geodesic.py:690\u001b[0m, in \u001b[0;36mGeodesic._Lambda12\u001b[1;34m(self, sbet1, cbet1, dn1, sbet2, cbet2, dn2, salp1, calp1, slam120, clam120, diffp, C1a, C2a, C3a)\u001b[0m\n\u001b[0;32m    688\u001b[0m     dlam12 \u001b[38;5;241m=\u001b[39m \u001b[38;5;241m-\u001b[39m \u001b[38;5;241m2\u001b[39m \u001b[38;5;241m*\u001b[39m \u001b[38;5;28mself\u001b[39m\u001b[38;5;241m.\u001b[39m_f1 \u001b[38;5;241m*\u001b[39m dn1 \u001b[38;5;241m/\u001b[39m sbet1\n\u001b[0;32m    689\u001b[0m   \u001b[38;5;28;01melse\u001b[39;00m:\n\u001b[1;32m--> 690\u001b[0m     dummy, dlam12, dummy, dummy, dummy \u001b[38;5;241m=\u001b[39m \u001b[38;5;28;43mself\u001b[39;49m\u001b[38;5;241;43m.\u001b[39;49m\u001b[43m_Lengths\u001b[49m\u001b[43m(\u001b[49m\n\u001b[0;32m    691\u001b[0m \u001b[43m      \u001b[49m\u001b[43meps\u001b[49m\u001b[43m,\u001b[49m\u001b[43m \u001b[49m\u001b[43msig12\u001b[49m\u001b[43m,\u001b[49m\u001b[43m \u001b[49m\u001b[43mssig1\u001b[49m\u001b[43m,\u001b[49m\u001b[43m \u001b[49m\u001b[43mcsig1\u001b[49m\u001b[43m,\u001b[49m\u001b[43m \u001b[49m\u001b[43mdn1\u001b[49m\u001b[43m,\u001b[49m\u001b[43m \u001b[49m\u001b[43mssig2\u001b[49m\u001b[43m,\u001b[49m\u001b[43m \u001b[49m\u001b[43mcsig2\u001b[49m\u001b[43m,\u001b[49m\u001b[43m \u001b[49m\u001b[43mdn2\u001b[49m\u001b[43m,\u001b[49m\u001b[43m \u001b[49m\u001b[43mcbet1\u001b[49m\u001b[43m,\u001b[49m\u001b[43m \u001b[49m\u001b[43mcbet2\u001b[49m\u001b[43m,\u001b[49m\n\u001b[0;32m    692\u001b[0m \u001b[43m      \u001b[49m\u001b[43mGeodesic\u001b[49m\u001b[38;5;241;43m.\u001b[39;49m\u001b[43mREDUCEDLENGTH\u001b[49m\u001b[43m,\u001b[49m\u001b[43m \u001b[49m\u001b[43mC1a\u001b[49m\u001b[43m,\u001b[49m\u001b[43m \u001b[49m\u001b[43mC2a\u001b[49m\u001b[43m)\u001b[49m\n\u001b[0;32m    693\u001b[0m     dlam12 \u001b[38;5;241m*\u001b[39m\u001b[38;5;241m=\u001b[39m \u001b[38;5;28mself\u001b[39m\u001b[38;5;241m.\u001b[39m_f1 \u001b[38;5;241m/\u001b[39m (calp2 \u001b[38;5;241m*\u001b[39m cbet2)\n\u001b[0;32m    694\u001b[0m \u001b[38;5;28;01melse\u001b[39;00m:\n",
      "File \u001b[1;32mc:\\Users\\anjal\\Desktop\\computational Interlligence\\CI2024_lab1\\CI2024_lab1\\CI2024_lab1\\Lib\\site-packages\\geographiclib\\geodesic.py:466\u001b[0m, in \u001b[0;36mGeodesic._Lengths\u001b[1;34m(self, eps, sig12, ssig1, csig1, dn1, ssig2, csig2, dn2, cbet1, cbet2, outmask, C1a, C2a)\u001b[0m\n\u001b[0;32m    463\u001b[0m \u001b[38;5;28;01melif\u001b[39;00m outmask \u001b[38;5;241m&\u001b[39m (Geodesic\u001b[38;5;241m.\u001b[39mREDUCEDLENGTH \u001b[38;5;241m|\u001b[39m Geodesic\u001b[38;5;241m.\u001b[39mGEODESICSCALE):\n\u001b[0;32m    464\u001b[0m   \u001b[38;5;66;03m# Assume here that nC1_ >= nC2_\u001b[39;00m\n\u001b[0;32m    465\u001b[0m   \u001b[38;5;28;01mfor\u001b[39;00m l \u001b[38;5;129;01min\u001b[39;00m \u001b[38;5;28mrange\u001b[39m(\u001b[38;5;241m1\u001b[39m, Geodesic\u001b[38;5;241m.\u001b[39mnC2_):\n\u001b[1;32m--> 466\u001b[0m     C2a[l] \u001b[38;5;241m=\u001b[39m A1 \u001b[38;5;241m*\u001b[39m C1a[l] \u001b[38;5;241m-\u001b[39m A2 \u001b[38;5;241m*\u001b[39m C2a[l]\n\u001b[0;32m    467\u001b[0m   J12 \u001b[38;5;241m=\u001b[39m m0x \u001b[38;5;241m*\u001b[39m sig12 \u001b[38;5;241m+\u001b[39m (Geodesic\u001b[38;5;241m.\u001b[39m_SinCosSeries(\u001b[38;5;28;01mTrue\u001b[39;00m, ssig2, csig2, C2a) \u001b[38;5;241m-\u001b[39m\n\u001b[0;32m    468\u001b[0m                        Geodesic\u001b[38;5;241m.\u001b[39m_SinCosSeries(\u001b[38;5;28;01mTrue\u001b[39;00m, ssig1, csig1, C2a))\n\u001b[0;32m    469\u001b[0m \u001b[38;5;28;01mif\u001b[39;00m outmask \u001b[38;5;241m&\u001b[39m Geodesic\u001b[38;5;241m.\u001b[39mREDUCEDLENGTH:\n",
      "\u001b[1;31mKeyboardInterrupt\u001b[0m: "
     ]
    }
   ],
   "source": [
    "optimal_tour, optimal_distance = tsp_bruteforce(country_coords)\n",
    "\n",
    "print(\"Optimal tour (global minimum solution):\", optimal_tour)\n",
    "print(\"Total distance of optimal tour (km):\", optimal_distance)"
   ]
  },
  {
   "cell_type": "markdown",
   "metadata": {},
   "source": [
    "# Genetic Algorithm"
   ]
  },
  {
   "cell_type": "code",
   "execution_count": 44,
   "metadata": {},
   "outputs": [],
   "source": [
    "#first creatation of the intial population\n",
    "def create_initial_population(pop_size, num_cities):\n",
    "    return [random.sample(range(num_cities), num_cities) for _ in range(pop_size)]\n",
    "\n",
    "#the funtion which can be used for the selection\n",
    "def selection(population, fitness, num_parents):\n",
    "    fitness_sorted = sorted(zip(population, fitness), key=lambda x: x[1])\n",
    "    selected = [individual for individual, _ in fitness_sorted[:num_parents]]\n",
    "    return selected\n",
    "\n",
    "#for the crossover\n",
    "def crossover(p1,p2):\n",
    "    size = len(p1)\n",
    "    start, end = sorted(random.sample(range(size), 2))\n",
    "    child = [None]*size\n",
    "    child[start:end] = p1[start:end]\n",
    "    pointer = end\n",
    "    for gene in p2:\n",
    "        if gene not in child:\n",
    "            if pointer >=size:\n",
    "                pointer = 0\n",
    "            child[pointer] = gene\n",
    "            pointer += 1\n",
    "    return child\n",
    "\n",
    "#swapping of children using mutation\n",
    "def mutation(tour, mutation_rate = 0.01):\n",
    "    if random.random() < mutation_rate:\n",
    "        i, j = random.sample(range(len(tour)), 2)\n",
    "        tour[i], tour[j] = tour[j], tour[i]\n",
    "    return tour\n"
   ]
  },
  {
   "cell_type": "code",
   "execution_count": 45,
   "metadata": {},
   "outputs": [],
   "source": [
    "def genetic_algorithm(countries, country_coords, population_size=100, generations=500, mutation_rate=0.01, num_parents=20):\n",
    "    num_cities = len(countries)\n",
    "    population = create_initial_population(population_size, num_cities)\n",
    "\n",
    "    for generation in range(generations):\n",
    "        # Calculate fitness of each individual\n",
    "        fitness = [calculate_total_distance(tour, country_coords, countries) for tour in population]\n",
    "        \n",
    "        # Selection\n",
    "        parents = selection(population, fitness, num_parents)\n",
    "        \n",
    "        # Generate new population through crossover and mutation\n",
    "        next_population = []\n",
    "        while len(next_population) < population_size:\n",
    "            parent1, parent2 = random.sample(parents, 2)\n",
    "            child = crossover(parent1, parent2)\n",
    "            child = mutation(child, mutation_rate)\n",
    "            next_population.append(child)\n",
    "        \n",
    "        population = next_population\n",
    "\n",
    "        # Print best solution every 50 generations\n",
    "        if generation % 50 == 0:\n",
    "            best_distance = min(fitness)\n",
    "            print(f\"Generation {generation}, Best Distance: {best_distance:.2f} km\")\n",
    "    \n",
    "    \n",
    "    final_fitness = [calculate_total_distance(tour, country_coords, countries) for tour in population]\n",
    "    best_tour_index = np.argmin(final_fitness)\n",
    "    best_tour = population[best_tour_index]\n",
    "    best_distance = final_fitness[best_tour_index]\n",
    "\n",
    "    # Convert indices back to country names\n",
    "    best_tour_countries = [countries[i] for i in best_tour]\n",
    "    return best_tour_countries, best_distance"
   ]
  },
  {
   "cell_type": "code",
   "execution_count": 46,
   "metadata": {},
   "outputs": [
    {
     "name": "stdout",
     "output_type": "stream",
     "text": [
      "Generation 0, Best Distance: 15628.72 km\n",
      "Generation 50, Best Distance: 6567.98 km\n",
      "Generation 100, Best Distance: 5742.91 km\n",
      "Generation 150, Best Distance: 5640.86 km\n",
      "Generation 200, Best Distance: 5499.30 km\n",
      "Generation 250, Best Distance: 5148.73 km\n",
      "Generation 300, Best Distance: 4832.29 km\n",
      "Generation 350, Best Distance: 4823.06 km\n",
      "Generation 400, Best Distance: 4823.06 km\n",
      "Generation 450, Best Distance: 4732.59 km\n",
      "\n",
      "Optimal Tour: ['Terni', 'Perugia', 'Florence', 'Leghorn', 'Prato', 'Modena', \"Reggio nell'Emilia\", 'Parma', 'Genoa', 'Turin', 'Novara', 'Piacenza', 'Milan', 'Monza', 'Bergamo', 'Brescia', 'Trento', 'Bolzano', 'Padua', 'Venice', 'Trieste', 'Vicenza', 'Verona', 'Ferrara', 'Bologna', 'Forlì', 'Ravenna', 'Rimini', 'Ancona', 'Pescara', 'Rome', 'Sassari', 'Cagliari', 'Palermo', 'Catania', 'Syracuse', 'Reggio di Calabria', 'Messina', 'Salerno', 'Bari', 'Taranto', 'Andria', 'Foggia', 'Giugliano in Campania', 'Naples', 'Latina']\n",
      "Optimal Distance (km): 4732.5860551954565\n"
     ]
    }
   ],
   "source": [
    "# Run the genetic algorithm\n",
    "best_tour, best_distance = genetic_algorithm(city_name, country_coords)\n",
    "print(\"\\nOptimal Tour:\", best_tour)\n",
    "print(\"Optimal Distance (km):\", best_distance)"
   ]
  },
  {
   "cell_type": "code",
   "execution_count": 3,
   "metadata": {},
   "outputs": [],
   "source": [
    "# the distance can be an euclidean distance\n",
    "def distance(city1, city2):\n",
    "    return np.sqrt((city1[0] - city2[0]) ** 2 + (city1[1] - city2[1]) ** 2)\n",
    "#to calculate total tour distance\n",
    "\n",
    "def create_distance_matrix(cities):\n",
    "    n = len(cities)\n",
    "    dist_matrix = np.zeros((n, n))\n",
    "    for i in range(n):\n",
    "        for j in range(n):\n",
    "            dist_matrix[i][j] = distance(cities[i], cities[j])\n",
    "    return dist_matrix\n",
    "\n",
    "def tot_distance(tour, cities):\n",
    "    dist = 0\n",
    "    for i in range(len(tour)):\n",
    "        dist += distance(cities[tour[i]], cities[tour[(i+1)%len(tour)]])\n",
    "    return dist\n"
   ]
  },
  {
   "cell_type": "code",
   "execution_count": 4,
   "metadata": {},
   "outputs": [],
   "source": [
    "#Brute forse algorithm\n",
    "#tries every possible permutaion of the cities to find the shortest path. \n",
    "# Slow but accurate algoritm\n",
    "#permutation uses all the possible combination of the citites\n",
    "def calculate_tour_cost(tour, dist_matrix):\n",
    "    cost = 0\n",
    "    n = len(tour)\n",
    "    for i in range(n - 1):\n",
    "        cost += dist_matrix[tour[i]][tour[i + 1]]\n",
    "    cost += dist_matrix[tour[-1]][tour[0]]  # Return to the origin\n",
    "    return cost\n",
    "\n",
    "def tsp_bruteforce(cities, city_names):\n",
    "    n = len(cities)\n",
    "    min_cost = float('inf')\n",
    "    best_tour = None\n",
    "    steps = 0\n",
    "\n",
    "    dist_matrix = create_distance_matrix(cities)\n",
    "\n",
    "    # Generate all permutations of city indices\n",
    "    for perm in permutations(range(n)):\n",
    "        steps += n\n",
    "        cost = calculate_tour_cost(perm, dist_matrix)\n",
    "        # # Calculate the total cost of the current permutation (tour)\n",
    "        # cost = 0\n",
    "        # for i in range(n - 1):\n",
    "        #     cost += distance(cities[perm[i]], cities[perm[i + 1]])\n",
    "        # cost += distance(cities[perm[-1]], cities[perm[0]])  # Return to the origin\n",
    "        \n",
    "        # Check if this tour is better\n",
    "        if cost < min_cost:\n",
    "            min_cost = cost\n",
    "            best_tour = perm\n",
    "    \n",
    "    # Convert best_tour indices to city names\n",
    "    best_tour_names = [city_names[i] for i in best_tour]\n",
    "    \n",
    "    return best_tour, best_tour_names, min_cost, steps\n"
   ]
  },
  {
   "cell_type": "code",
   "execution_count": 5,
   "metadata": {},
   "outputs": [
    {
     "name": "stdout",
     "output_type": "stream",
     "text": [
      "Brute force TSP cost: 12.22271518168697\n",
      "Best tour (indices): (4, 1, 7, 0, 2, 6, 5, 3)\n",
      "Best tour (names): ['Norsup', 'Lakatoro', 'Vila', 'Isangel', 'Longana', 'Sola', 'Port Olry', 'Luganville']\n",
      "Tofal steps are:-  322560\n"
     ]
    }
   ],
   "source": [
    "best_tour_indices, best_tour_names, min_cost, steps = tsp_bruteforce(cities, city_name)\n",
    "\n",
    "print(f\"Brute force TSP cost: {min_cost}\")\n",
    "print(f\"Best tour (indices): {best_tour_indices}\")\n",
    "print(f\"Best tour (names): {best_tour_names}\")\n",
    "print(\"Tofal steps are:- \", steps)"
   ]
  },
  {
   "cell_type": "code",
   "execution_count": 43,
   "metadata": {},
   "outputs": [
    {
     "name": "stdout",
     "output_type": "stream",
     "text": [
      "Nearest Neighbor TSP cost: 13.42256271273651, Tour: [0, 7, 1, 4, 3, 5, 2, 6, 0]\n"
     ]
    }
   ],
   "source": [
    "#faster but does not gurantee the shortes path\n",
    "def tsp_nearest_neighbor(cities):\n",
    "    n = len(cities)\n",
    "    visited = [False] * n\n",
    "    current_city = 0\n",
    "    visited[current_city] = True\n",
    "    tour = [current_city]\n",
    "    total_cost = 0\n",
    "    \n",
    "    for _ in range(n - 1):\n",
    "        next_city = None\n",
    "        min_dist = float('inf')\n",
    "        \n",
    "        # Find the nearest unvisited city\n",
    "        for i in range(n):\n",
    "            if not visited[i]:\n",
    "                dist = distance(cities[current_city], cities[i])\n",
    "                if dist < min_dist:\n",
    "                    min_dist = dist\n",
    "                    next_city = i\n",
    "        \n",
    "        # Move to the nearest city\n",
    "        tour.append(next_city)\n",
    "        total_cost += min_dist\n",
    "        visited[next_city] = True\n",
    "        current_city = next_city\n",
    "    \n",
    "    # Return to the start city\n",
    "    total_cost += distance(cities[current_city], cities[tour[0]])\n",
    "    tour.append(tour[0])\n",
    "    \n",
    "    return tour, total_cost\n",
    "\n",
    "tour_nn, cost_nn = tsp_nearest_neighbor(cities)\n",
    "print(f\"Nearest Neighbor TSP cost: {cost_nn}, Tour: {tour_nn}\")\n",
    "#  note:- maybe cost can be reduced\n"
   ]
  },
  {
   "cell_type": "code",
   "execution_count": null,
   "metadata": {},
   "outputs": [],
   "source": [
    "\n",
    "\n"
   ]
  }
 ],
 "metadata": {
  "kernelspec": {
   "display_name": "CI2024_lab1",
   "language": "python",
   "name": "python3"
  },
  "language_info": {
   "codemirror_mode": {
    "name": "ipython",
    "version": 3
   },
   "file_extension": ".py",
   "mimetype": "text/x-python",
   "name": "python",
   "nbconvert_exporter": "python",
   "pygments_lexer": "ipython3",
   "version": "3.13.0"
  }
 },
 "nbformat": 4,
 "nbformat_minor": 2
}
