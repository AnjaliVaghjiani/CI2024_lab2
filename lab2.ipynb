{
 "cells": [
  {
   "cell_type": "code",
   "execution_count": 134,
   "metadata": {},
   "outputs": [],
   "source": [
    "import functools\n",
    "import logging\n",
    "from dataclasses import dataclass\n",
    "import random\n",
    "import numpy as np\n",
    "from tqdm.auto import tqdm\n",
    "from icecream import ic\n",
    "import pandas as pd\n",
    "from itertools import permutations\n",
    "import pandas as pd\n",
    "from geopy.distance import geodesic\n",
    "\n",
    "logging.basicConfig(level=logging.INFO)"
   ]
  },
  {
   "cell_type": "code",
   "execution_count": 135,
   "metadata": {},
   "outputs": [],
   "source": [
    "data = pd.read_csv('cities/vanuatu.csv', header=None , names=['City', 'x', 'y'])\n",
    "# cities #to print the data of all the cities\n",
    "cities = data[['x', 'y']].values\n",
    "city_name = data['City'].values\n",
    "country_coords = {row['City']: (row['x'], row['y']) for _, row in data.iterrows()}"
   ]
  },
  {
   "cell_type": "code",
   "execution_count": null,
   "metadata": {},
   "outputs": [],
   "source": [
    "def geodesic_distance(city1, city2):\n",
    "    return geodesic(city1, city2).kilometers\n",
    "\n",
    "def euclidean_distance(city1, city2):\n",
    "    return np.sqrt((city1[0] - city2[0]) ** 2 + (city1[1] - city2[1]) ** 2)\n",
    "\n",
    "def calculate_total_distance(tour, country_coords, countries=None):\n",
    "    total_distance = 0\n",
    "    for i in range(len(tour) - 1):\n",
    "        city1, city2 = tour[i], tour[i + 1]\n",
    "        total_distance += geodesic_distance(country_coords[city1], country_coords[city2])\n",
    "    total_distance += geodesic_distance(country_coords[tour[-1]], country_coords[tour[0]])\n",
    "    return total_distance\n",
    "\n"
   ]
  },
  {
   "cell_type": "markdown",
   "metadata": {},
   "source": [
    "## Algorithm Brute Force TSP"
   ]
  },
  {
   "cell_type": "code",
   "execution_count": 138,
   "metadata": {},
   "outputs": [],
   "source": [
    "def tsp_bruteforce(country_coords):\n",
    "    countries = list(country_coords.keys())\n",
    "    min_distance = float('inf')\n",
    "    optimal_tour = None\n",
    "    step_counter = 0\n",
    "    for perm in permutations(countries):\n",
    "        current_distance = calculate_total_distance(perm, country_coords, countries)\n",
    "        step_counter += 1\n",
    "        if current_distance < min_distance:\n",
    "            min_distance = current_distance\n",
    "            optimal_tour = perm\n",
    "\n",
    "    logging.info(f\"Brute Force Steps: {step_counter}\")        \n",
    "    return optimal_tour, min_distance, step_counter"
   ]
  },
  {
   "cell_type": "code",
   "execution_count": null,
   "metadata": {},
   "outputs": [],
   "source": [
    "# results from the bruth force\n",
    "_, brute_distance, brute_steps = tsp_bruteforce(country_coords)\n",
    "logging.info(f\"Brute Force Distance: {brute_distance} km, Steps: {brute_steps}\")\n"
   ]
  },
  {
   "cell_type": "markdown",
   "metadata": {},
   "source": [
    "# Genetic Algorithm"
   ]
  },
  {
   "cell_type": "code",
   "execution_count": 139,
   "metadata": {},
   "outputs": [],
   "source": [
    "#first creatation of the intial population\n",
    "def create_initial_population(pop_size, num_cities):\n",
    "    return [random.sample(range(num_cities), num_cities) for _ in range(pop_size)]\n",
    "\n",
    "#the funtion which can be used for the selection\n",
    "def selection(population, fitness, num_parents):\n",
    "    fitness_sorted = sorted(zip(population, fitness), key=lambda x: x[1])\n",
    "    selected = [individual for individual, _ in fitness_sorted[:num_parents]]\n",
    "    return selected\n",
    "\n",
    "#for the crossover\n",
    "def crossover(p1,p2):\n",
    "    size = len(p1)\n",
    "    start, end = sorted(random.sample(range(size), 2))\n",
    "    child = [None]*size\n",
    "    child[start:end] = p1[start:end]\n",
    "    pointer = end\n",
    "    for gene in p2:\n",
    "        if gene not in child:\n",
    "            if pointer >=size:\n",
    "                pointer = 0\n",
    "            child[pointer] = gene\n",
    "            pointer += 1\n",
    "    return child\n",
    "\n",
    "#swapping of children using mutation\n",
    "def mutation(tour, mutation_rate = 0.01):\n",
    "    if random.random() < mutation_rate:\n",
    "        i, j = random.sample(range(len(tour)), 2)\n",
    "        tour[i], tour[j] = tour[j], tour[i]\n",
    "    return tour\n"
   ]
  },
  {
   "cell_type": "code",
   "execution_count": 140,
   "metadata": {},
   "outputs": [],
   "source": [
    "def genetic_algorithm(countries, country_coords, population_size=100, generations=500, mutation_rate=0.01, num_parents=20):\n",
    "    num_cities = len(countries)\n",
    "    population = create_initial_population(population_size, num_cities)\n",
    "    step_counter =0 \n",
    "    for generation in tqdm(range(generations)):\n",
    "        # Calculate fitness of each individual\n",
    "        fitness = [calculate_total_distance([city_name[i] for i in tour], country_coords, city_name) for tour in population]\n",
    "        \n",
    "        # Selection\n",
    "        parents = selection(population, fitness, num_parents)\n",
    "        \n",
    "        # Generate new population through crossover and mutation\n",
    "        next_population = []\n",
    "        while len(next_population) < population_size:\n",
    "            parent1, parent2 = random.sample(parents, 2)\n",
    "            child = crossover(parent1, parent2)\n",
    "            child = mutation(child, mutation_rate)\n",
    "            next_population.append(child)\n",
    "        \n",
    "        population = next_population\n",
    "        step_counter +=1\n",
    "        # Print best solution every 50 generations\n",
    "        if generation % 50 == 0:\n",
    "            best_distance = min(fitness)\n",
    "            print(f\"Generation {generation}, Best Distance: {best_distance:.2f} km\")\n",
    "    \n",
    "    \n",
    "    # final_fitness = [calculate_total_distance([city_name[i] for i in tour], country_coords) for tour in population]\n",
    "    # best_tour_index = np.argmin(final_fitness)\n",
    "    best_tour = population[np.argmin(fitness)]\n",
    "\n",
    "    best_distance = min(fitness)\n",
    "\n",
    "    # Convert indices back to country names\n",
    "    best_tour_cities = [city_name[i] for i in best_tour]\n",
    "    return best_tour_cities, best_distance, step_counter"
   ]
  },
  {
   "cell_type": "code",
   "execution_count": null,
   "metadata": {},
   "outputs": [],
   "source": [
    "# output of genetic algorithm\n",
    "_, ga_distance, ga_steps = genetic_algorithm(city_name, country_coords)\n",
    "logging.info(f\"Genetic Algorithm Distance: {ga_distance} km, Steps: {ga_steps}\")\n"
   ]
  },
  {
   "cell_type": "markdown",
   "metadata": {},
   "source": [
    "## Nearest Neighbor Algorithm"
   ]
  },
  {
   "cell_type": "code",
   "execution_count": 141,
   "metadata": {},
   "outputs": [],
   "source": [
    "def tsp_nearest_neighbor(cities):\n",
    "    n = len(cities)\n",
    "    visited = [False] * n\n",
    "    current_city = 0\n",
    "    visited[current_city] = True\n",
    "    tour = [current_city]\n",
    "    total_cost = 0\n",
    "    step_counter = 0\n",
    "    for _ in range(n - 1):\n",
    "        next_city = None\n",
    "        min_dist = float('inf')\n",
    "        for i in range(n):\n",
    "            if not visited[i]:\n",
    "                dist = euclidean_distance(cities[current_city], cities[i])\n",
    "                if dist < min_dist:\n",
    "                    min_dist = dist\n",
    "                    next_city = i\n",
    "        tour.append(next_city)\n",
    "        total_cost += min_dist\n",
    "        visited[next_city] = True\n",
    "        current_city = next_city\n",
    "        step_counter += 1\n",
    "    total_cost += euclidean_distance(cities[current_city], cities[tour[0]])\n",
    "    tour.append(tour[0])\n",
    "\n",
    "    logging.info(f\"Nearest Neighbor Steps: {step_counter}\")\n",
    "    return tour, total_cost, step_counter"
   ]
  },
  {
   "cell_type": "code",
   "execution_count": null,
   "metadata": {},
   "outputs": [],
   "source": [
    "# # tsp neighbour outputs\n",
    "_, nn_distance, nn_steps = tsp_nearest_neighbor(cities)\n",
    "logging.info(f\"Nearest Neighbor Distance: {nn_distance*100} km, Steps: {nn_steps}\")"
   ]
  },
  {
   "cell_type": "markdown",
   "metadata": {},
   "source": [
    "## 2-Opt Optimization "
   ]
  },
  {
   "cell_type": "code",
   "execution_count": 142,
   "metadata": {},
   "outputs": [],
   "source": [
    "# 2-opt code\n",
    "def two_opt(tour, cities):\n",
    "    best_distance = calculate_total_distance(tour, cities)\n",
    "    best_tour = tour[:]\n",
    "    improved = True\n",
    "    step_counter = 0\n",
    "\n",
    "    while improved:\n",
    "        improved = False\n",
    "        for i in range(1, len(tour) - 2):\n",
    "            for j in range(i + 1, len(tour)):\n",
    "                if j - i == 1: \n",
    "                    continue  # skip adjacent nodes\n",
    "                new_tour = best_tour[:]\n",
    "                new_tour[i:j] = tour[j - 1:i - 1:-1]  # reverse the tour section\n",
    "                new_distance = calculate_total_distance(new_tour, cities)\n",
    "                \n",
    "                step_counter +=1\n",
    "                if new_distance < best_distance:\n",
    "                    best_tour = new_tour\n",
    "                    best_distance = new_distance\n",
    "                    improved = True\n",
    "        tour = best_tour\n",
    "    logging.info(f\"2-Opt Steps: {step_counter}\")\n",
    "    return best_tour, best_distance, step_counter"
   ]
  },
  {
   "cell_type": "code",
   "execution_count": null,
   "metadata": {},
   "outputs": [
    {
     "name": "stderr",
     "output_type": "stream",
     "text": [
      "INFO:root:2-Opt Steps: 30\n",
      "INFO:root:2-Opt Distance: 1343.9036980299845 km, Steps: 30\n"
     ]
    }
   ],
   "source": [
    "# Improve tour with 2-Opt\n",
    "optimized_tour, opt_distance, opt_steps = two_opt([0, 1, 2, 3, 4, 5, 6, 7], cities)  # Example initial tour\n",
    "logging.info(f\"2-Opt Distance: {opt_distance} km, Steps: {opt_steps}\")"
   ]
  }
 ],
 "metadata": {
  "kernelspec": {
   "display_name": "CI2024_lab1",
   "language": "python",
   "name": "python3"
  },
  "language_info": {
   "codemirror_mode": {
    "name": "ipython",
    "version": 3
   },
   "file_extension": ".py",
   "mimetype": "text/x-python",
   "name": "python",
   "nbconvert_exporter": "python",
   "pygments_lexer": "ipython3",
   "version": "3.13.0"
  }
 },
 "nbformat": 4,
 "nbformat_minor": 2
}
